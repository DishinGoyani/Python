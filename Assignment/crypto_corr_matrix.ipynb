{
 "cells": [
  {
   "cell_type": "markdown",
   "metadata": {},
   "source": [
    "# Dataset 1"
   ]
  },
  {
   "cell_type": "code",
   "execution_count": null,
   "metadata": {
    "collapsed": true
   },
   "outputs": [],
   "source": []
  },
  {
   "cell_type": "code",
   "execution_count": 46,
   "metadata": {
    "collapsed": true
   },
   "outputs": [],
   "source": [
    "#import Necessary librares\n",
    "import pandas as pd\n",
    "\n",
    "from matplotlib.finance import candlestick2_ohlc\n",
    "import matplotlib.pyplot as plt\n",
    "import matplotlib.ticker as ticker\n",
    "import datetime as datetime\n",
    "import numpy as np"
   ]
  },
  {
   "cell_type": "code",
   "execution_count": 47,
   "metadata": {
    "collapsed": true
   },
   "outputs": [],
   "source": [
    "# Origanal Dataset\n",
    "O_df = pd.read_csv(\"Dataset/btcalphaUSD.csv\", header=None)"
   ]
  },
  {
   "cell_type": "code",
   "execution_count": 48,
   "metadata": {
    "collapsed": true
   },
   "outputs": [],
   "source": [
    "# DataFrame For Manipulation\n",
    "df = pd.DataFrame.copy(O_df)\n",
    "df.columns = [\"DateTime\",\"Price\",\"Volume\"]"
   ]
  },
  {
   "cell_type": "code",
   "execution_count": 49,
   "metadata": {},
   "outputs": [],
   "source": [
    "#Convert Date Into Human Readable\n",
    "df['DateTime'] = pd.to_datetime(df['DateTime'], unit='s')"
   ]
  },
  {
   "cell_type": "code",
   "execution_count": 50,
   "metadata": {
    "collapsed": true
   },
   "outputs": [],
   "source": [
    "# Convert DateTime Column Into Index\n",
    "df.index = df[\"DateTime\"]\n",
    "del df[\"DateTime\"]"
   ]
  },
  {
   "cell_type": "code",
   "execution_count": 51,
   "metadata": {},
   "outputs": [
    {
     "data": {
      "text/html": [
       "<div>\n",
       "<style>\n",
       "    .dataframe thead tr:only-child th {\n",
       "        text-align: right;\n",
       "    }\n",
       "\n",
       "    .dataframe thead th {\n",
       "        text-align: left;\n",
       "    }\n",
       "\n",
       "    .dataframe tbody tr th {\n",
       "        vertical-align: top;\n",
       "    }\n",
       "</style>\n",
       "<table border=\"1\" class=\"dataframe\">\n",
       "  <thead>\n",
       "    <tr style=\"text-align: right;\">\n",
       "      <th></th>\n",
       "      <th>Price</th>\n",
       "      <th>Volume</th>\n",
       "    </tr>\n",
       "    <tr>\n",
       "      <th>DateTime</th>\n",
       "      <th></th>\n",
       "      <th></th>\n",
       "    </tr>\n",
       "  </thead>\n",
       "  <tbody>\n",
       "    <tr>\n",
       "      <th>2016-11-01 18:42:25</th>\n",
       "      <td>715.000</td>\n",
       "      <td>0.002797</td>\n",
       "    </tr>\n",
       "    <tr>\n",
       "      <th>2016-11-01 20:17:40</th>\n",
       "      <td>720.000</td>\n",
       "      <td>0.001300</td>\n",
       "    </tr>\n",
       "    <tr>\n",
       "      <th>2016-11-01 20:18:11</th>\n",
       "      <td>720.199</td>\n",
       "      <td>0.001264</td>\n",
       "    </tr>\n",
       "    <tr>\n",
       "      <th>2016-11-01 20:49:22</th>\n",
       "      <td>720.199</td>\n",
       "      <td>0.002902</td>\n",
       "    </tr>\n",
       "    <tr>\n",
       "      <th>2016-11-01 20:49:22</th>\n",
       "      <td>720.200</td>\n",
       "      <td>0.001223</td>\n",
       "    </tr>\n",
       "  </tbody>\n",
       "</table>\n",
       "</div>"
      ],
      "text/plain": [
       "                       Price    Volume\n",
       "DateTime                              \n",
       "2016-11-01 18:42:25  715.000  0.002797\n",
       "2016-11-01 20:17:40  720.000  0.001300\n",
       "2016-11-01 20:18:11  720.199  0.001264\n",
       "2016-11-01 20:49:22  720.199  0.002902\n",
       "2016-11-01 20:49:22  720.200  0.001223"
      ]
     },
     "execution_count": 51,
     "metadata": {},
     "output_type": "execute_result"
    }
   ],
   "source": [
    "df.head()"
   ]
  },
  {
   "cell_type": "code",
   "execution_count": 52,
   "metadata": {},
   "outputs": [
    {
     "data": {
      "text/html": [
       "<div>\n",
       "<style>\n",
       "    .dataframe thead tr:only-child th {\n",
       "        text-align: right;\n",
       "    }\n",
       "\n",
       "    .dataframe thead th {\n",
       "        text-align: left;\n",
       "    }\n",
       "\n",
       "    .dataframe tbody tr th {\n",
       "        vertical-align: top;\n",
       "    }\n",
       "</style>\n",
       "<table border=\"1\" class=\"dataframe\">\n",
       "  <thead>\n",
       "    <tr style=\"text-align: right;\">\n",
       "      <th></th>\n",
       "      <th>open</th>\n",
       "      <th>high</th>\n",
       "      <th>low</th>\n",
       "      <th>close</th>\n",
       "    </tr>\n",
       "    <tr>\n",
       "      <th>DateTime</th>\n",
       "      <th></th>\n",
       "      <th></th>\n",
       "      <th></th>\n",
       "      <th></th>\n",
       "    </tr>\n",
       "  </thead>\n",
       "  <tbody>\n",
       "    <tr>\n",
       "      <th>2016-11-01</th>\n",
       "      <td>715.000</td>\n",
       "      <td>720.2</td>\n",
       "      <td>715.00</td>\n",
       "      <td>717.000</td>\n",
       "    </tr>\n",
       "    <tr>\n",
       "      <th>2016-11-02</th>\n",
       "      <td>717.000</td>\n",
       "      <td>717.5</td>\n",
       "      <td>712.00</td>\n",
       "      <td>716.500</td>\n",
       "    </tr>\n",
       "    <tr>\n",
       "      <th>2016-11-03</th>\n",
       "      <td>715.000</td>\n",
       "      <td>736.0</td>\n",
       "      <td>688.58</td>\n",
       "      <td>695.681</td>\n",
       "    </tr>\n",
       "    <tr>\n",
       "      <th>2016-11-04</th>\n",
       "      <td>695.681</td>\n",
       "      <td>700.0</td>\n",
       "      <td>686.30</td>\n",
       "      <td>687.000</td>\n",
       "    </tr>\n",
       "    <tr>\n",
       "      <th>2016-11-05</th>\n",
       "      <td>687.000</td>\n",
       "      <td>695.0</td>\n",
       "      <td>687.00</td>\n",
       "      <td>695.000</td>\n",
       "    </tr>\n",
       "  </tbody>\n",
       "</table>\n",
       "</div>"
      ],
      "text/plain": [
       "               open   high     low    close\n",
       "DateTime                                   \n",
       "2016-11-01  715.000  720.2  715.00  717.000\n",
       "2016-11-02  717.000  717.5  712.00  716.500\n",
       "2016-11-03  715.000  736.0  688.58  695.681\n",
       "2016-11-04  695.681  700.0  686.30  687.000\n",
       "2016-11-05  687.000  695.0  687.00  695.000"
      ]
     },
     "execution_count": 52,
     "metadata": {},
     "output_type": "execute_result"
    }
   ],
   "source": [
    "# Convert Time Data into OHLC (Open, High, Low, Close)\n",
    "df_ohlc = df.Price.resample('1D').ohlc()\n",
    "#print(df_ohlc.head())\n",
    "\n",
    "df_ohlc.head()"
   ]
  },
  {
   "cell_type": "code",
   "execution_count": 53,
   "metadata": {},
   "outputs": [
    {
     "data": {
      "text/plain": [
       "False"
      ]
     },
     "execution_count": 53,
     "metadata": {},
     "output_type": "execute_result"
    }
   ],
   "source": [
    "# Check Is Any Null Data\n",
    "df_ohlc.isnull().values.any()"
   ]
  },
  {
   "cell_type": "code",
   "execution_count": 54,
   "metadata": {},
   "outputs": [
    {
     "data": {
      "image/png": "[encoded data removed]",
      "text/plain": [
       "<matplotlib.figure.Figure at 0x7f194a479e10>"
      ]
     },
     "metadata": {},
     "output_type": "display_data"
    },
    {
     "name": "stdout",
     "output_type": "stream",
     "text": [
      "             open       high         low       close\n",
      "count   20.000000   20.00000   20.000000   20.000000\n",
      "mean   708.109600  719.39795  700.723050  708.847650\n",
      "std     15.033734   15.05263   17.053141   16.231174\n",
      "min    687.000000  695.00000  670.890000  685.000000\n",
      "25%    697.592750  706.22425  689.637500  695.568250\n",
      "50%    704.280000  717.88000  699.770500  705.875000\n",
      "75%    715.500000  734.50000  712.750000  719.000000\n",
      "max    738.000000  741.00000  738.000000  738.493000\n"
     ]
    },
    {
     "data": {
      "text/html": [
       "<div>\n",
       "<style>\n",
       "    .dataframe thead tr:only-child th {\n",
       "        text-align: right;\n",
       "    }\n",
       "\n",
       "    .dataframe thead th {\n",
       "        text-align: left;\n",
       "    }\n",
       "\n",
       "    .dataframe tbody tr th {\n",
       "        vertical-align: top;\n",
       "    }\n",
       "</style>\n",
       "<table border=\"1\" class=\"dataframe\">\n",
       "  <thead>\n",
       "    <tr style=\"text-align: right;\">\n",
       "      <th></th>\n",
       "      <th>open</th>\n",
       "      <th>high</th>\n",
       "      <th>low</th>\n",
       "      <th>close</th>\n",
       "    </tr>\n",
       "    <tr>\n",
       "      <th>DateTime</th>\n",
       "      <th></th>\n",
       "      <th></th>\n",
       "      <th></th>\n",
       "      <th></th>\n",
       "    </tr>\n",
       "  </thead>\n",
       "  <tbody>\n",
       "    <tr>\n",
       "      <th>2016-11-01</th>\n",
       "      <td>715.000</td>\n",
       "      <td>720.2</td>\n",
       "      <td>715.00</td>\n",
       "      <td>717.000</td>\n",
       "    </tr>\n",
       "    <tr>\n",
       "      <th>2016-11-02</th>\n",
       "      <td>717.000</td>\n",
       "      <td>717.5</td>\n",
       "      <td>712.00</td>\n",
       "      <td>716.500</td>\n",
       "    </tr>\n",
       "    <tr>\n",
       "      <th>2016-11-03</th>\n",
       "      <td>715.000</td>\n",
       "      <td>736.0</td>\n",
       "      <td>688.58</td>\n",
       "      <td>695.681</td>\n",
       "    </tr>\n",
       "    <tr>\n",
       "      <th>2016-11-04</th>\n",
       "      <td>695.681</td>\n",
       "      <td>700.0</td>\n",
       "      <td>686.30</td>\n",
       "      <td>687.000</td>\n",
       "    </tr>\n",
       "    <tr>\n",
       "      <th>2016-11-05</th>\n",
       "      <td>687.000</td>\n",
       "      <td>695.0</td>\n",
       "      <td>687.00</td>\n",
       "      <td>695.000</td>\n",
       "    </tr>\n",
       "  </tbody>\n",
       "</table>\n",
       "</div>"
      ],
      "text/plain": [
       "               open   high     low    close\n",
       "DateTime                                   \n",
       "2016-11-01  715.000  720.2  715.00  717.000\n",
       "2016-11-02  717.000  717.5  712.00  716.500\n",
       "2016-11-03  715.000  736.0  688.58  695.681\n",
       "2016-11-04  695.681  700.0  686.30  687.000\n",
       "2016-11-05  687.000  695.0  687.00  695.000"
      ]
     },
     "execution_count": 54,
     "metadata": {},
     "output_type": "execute_result"
    }
   ],
   "source": [
    "\n",
    "\n",
    "# ---------------------------------------------\n",
    "# Remove head() if you want to show full Graph\n",
    "# ---------------------------------------------\n",
    "quotes = df_ohlc.head(20)\n",
    "\n",
    "fig, ax = plt.subplots()\n",
    "candlestick2_ohlc(ax,quotes['open'],quotes['high'],quotes['low'],quotes['close'],width=0.6)\n",
    "\n",
    "xdate = quotes.index\n",
    "\n",
    "ax.xaxis.set_major_locator(ticker.MaxNLocator(6))\n",
    "\n",
    "def mydate(x,pos):\n",
    "    try:\n",
    "        return xdate[int(x)]\n",
    "    except IndexError:\n",
    "        return ''\n",
    "\n",
    "ax.xaxis.set_major_formatter(ticker.FuncFormatter(mydate))\n",
    "\n",
    "fig.autofmt_xdate()\n",
    "fig.tight_layout()\n",
    "\n",
    "plt.show()\n",
    "print(quotes.describe())\n",
    "df_ohlc.head()"
   ]
  },
  {
   "cell_type": "code",
   "execution_count": 55,
   "metadata": {
    "collapsed": true
   },
   "outputs": [],
   "source": [
    "#Store Data into another csv\n",
    "df_ohlc.to_csv(path_or_buf='Dataset/C_btcalphaUSD.csv')"
   ]
  },
  {
   "cell_type": "raw",
   "metadata": {},
   "source": [
    "# for select Open Price of a day\n",
    "df.Price[df.DateTime == pd.Timestamp('2018-02-12').date()].head(1)\n",
    "\n",
    "# for select Close Price of a day\n",
    "df.Price[df.DateTime == pd.Timestamp('2018-02-12').date()].tail(1)\n",
    "\n",
    "# for select High Price of a day\n",
    "max(df.Price[df.DateTime == pd.Timestamp('2018-02-12').date()])\n",
    "\n",
    "# for select Low Price of a day\n",
    "min(df.Price[df.DateTime == pd.Timestamp('2018-02-12').date()])"
   ]
  },
  {
   "cell_type": "markdown",
   "metadata": {},
   "source": [
    "# Dataset - 2"
   ]
  },
  {
   "cell_type": "code",
   "execution_count": 57,
   "metadata": {
    "collapsed": true
   },
   "outputs": [],
   "source": [
    "# Read Data from csv file\n",
    "O_df = pd.read_csv('Dataset/SML.csv')"
   ]
  },
  {
   "cell_type": "code",
   "execution_count": 59,
   "metadata": {},
   "outputs": [
    {
     "data": {
      "text/html": [
       "<div>\n",
       "<style>\n",
       "    .dataframe thead tr:only-child th {\n",
       "        text-align: right;\n",
       "    }\n",
       "\n",
       "    .dataframe thead th {\n",
       "        text-align: left;\n",
       "    }\n",
       "\n",
       "    .dataframe tbody tr th {\n",
       "        vertical-align: top;\n",
       "    }\n",
       "</style>\n",
       "<table border=\"1\" class=\"dataframe\">\n",
       "  <thead>\n",
       "    <tr style=\"text-align: right;\">\n",
       "      <th></th>\n",
       "      <th>Date</th>\n",
       "      <th>Open</th>\n",
       "      <th>High</th>\n",
       "      <th>Low</th>\n",
       "      <th>Close</th>\n",
       "      <th>Adj Close</th>\n",
       "      <th>Volume</th>\n",
       "    </tr>\n",
       "  </thead>\n",
       "  <tbody>\n",
       "    <tr>\n",
       "      <th>0</th>\n",
       "      <td>2016-11-01</td>\n",
       "      <td>723.390015</td>\n",
       "      <td>724.229980</td>\n",
       "      <td>709.000000</td>\n",
       "      <td>712.770020</td>\n",
       "      <td>712.770020</td>\n",
       "      <td>81400</td>\n",
       "    </tr>\n",
       "    <tr>\n",
       "      <th>1</th>\n",
       "      <td>2016-11-02</td>\n",
       "      <td>712.150024</td>\n",
       "      <td>713.510010</td>\n",
       "      <td>705.349976</td>\n",
       "      <td>705.679993</td>\n",
       "      <td>705.679993</td>\n",
       "      <td>75500</td>\n",
       "    </tr>\n",
       "    <tr>\n",
       "      <th>2</th>\n",
       "      <td>2016-11-03</td>\n",
       "      <td>708.719971</td>\n",
       "      <td>709.640015</td>\n",
       "      <td>702.989990</td>\n",
       "      <td>703.640015</td>\n",
       "      <td>703.640015</td>\n",
       "      <td>84400</td>\n",
       "    </tr>\n",
       "    <tr>\n",
       "      <th>3</th>\n",
       "      <td>2016-11-04</td>\n",
       "      <td>704.469971</td>\n",
       "      <td>714.219971</td>\n",
       "      <td>704.010010</td>\n",
       "      <td>707.169983</td>\n",
       "      <td>707.169983</td>\n",
       "      <td>86800</td>\n",
       "    </tr>\n",
       "    <tr>\n",
       "      <th>4</th>\n",
       "      <td>2016-11-07</td>\n",
       "      <td>714.960022</td>\n",
       "      <td>725.229980</td>\n",
       "      <td>714.960022</td>\n",
       "      <td>724.260010</td>\n",
       "      <td>724.260010</td>\n",
       "      <td>84800</td>\n",
       "    </tr>\n",
       "  </tbody>\n",
       "</table>\n",
       "</div>"
      ],
      "text/plain": [
       "         Date        Open        High         Low       Close   Adj Close  \\\n",
       "0  2016-11-01  723.390015  724.229980  709.000000  712.770020  712.770020   \n",
       "1  2016-11-02  712.150024  713.510010  705.349976  705.679993  705.679993   \n",
       "2  2016-11-03  708.719971  709.640015  702.989990  703.640015  703.640015   \n",
       "3  2016-11-04  704.469971  714.219971  704.010010  707.169983  707.169983   \n",
       "4  2016-11-07  714.960022  725.229980  714.960022  724.260010  724.260010   \n",
       "\n",
       "   Volume  \n",
       "0   81400  \n",
       "1   75500  \n",
       "2   84400  \n",
       "3   86800  \n",
       "4   84800  "
      ]
     },
     "execution_count": 59,
     "metadata": {},
     "output_type": "execute_result"
    }
   ],
   "source": [
    "O_df.head()"
   ]
  },
  {
   "cell_type": "code",
   "execution_count": 60,
   "metadata": {
    "collapsed": true
   },
   "outputs": [],
   "source": [
    "df = pd.DataFrame.copy(O_df)"
   ]
  },
  {
   "cell_type": "code",
   "execution_count": 61,
   "metadata": {},
   "outputs": [
    {
     "data": {
      "text/plain": [
       "Date         datetime64[ns]\n",
       "Open                float64\n",
       "High                float64\n",
       "Low                 float64\n",
       "Close               float64\n",
       "Adj Close           float64\n",
       "Volume                int64\n",
       "dtype: object"
      ]
     },
     "execution_count": 61,
     "metadata": {},
     "output_type": "execute_result"
    }
   ],
   "source": [
    "# Convert Object type into DateTime\n",
    "df.Date = pd.to_datetime(df.Date)\n",
    "df.dtypes"
   ]
  },
  {
   "cell_type": "code",
   "execution_count": 62,
   "metadata": {},
   "outputs": [
    {
     "data": {
      "text/html": [
       "<div>\n",
       "<style>\n",
       "    .dataframe thead tr:only-child th {\n",
       "        text-align: right;\n",
       "    }\n",
       "\n",
       "    .dataframe thead th {\n",
       "        text-align: left;\n",
       "    }\n",
       "\n",
       "    .dataframe tbody tr th {\n",
       "        vertical-align: top;\n",
       "    }\n",
       "</style>\n",
       "<table border=\"1\" class=\"dataframe\">\n",
       "  <thead>\n",
       "    <tr style=\"text-align: right;\">\n",
       "      <th></th>\n",
       "      <th>Open</th>\n",
       "      <th>High</th>\n",
       "      <th>Low</th>\n",
       "      <th>Close</th>\n",
       "      <th>Adj Close</th>\n",
       "      <th>Volume</th>\n",
       "    </tr>\n",
       "    <tr>\n",
       "      <th>Date</th>\n",
       "      <th></th>\n",
       "      <th></th>\n",
       "      <th></th>\n",
       "      <th></th>\n",
       "      <th></th>\n",
       "      <th></th>\n",
       "    </tr>\n",
       "  </thead>\n",
       "  <tbody>\n",
       "    <tr>\n",
       "      <th>2016-11-01</th>\n",
       "      <td>723.390015</td>\n",
       "      <td>724.229980</td>\n",
       "      <td>709.000000</td>\n",
       "      <td>712.770020</td>\n",
       "      <td>712.770020</td>\n",
       "      <td>81400</td>\n",
       "    </tr>\n",
       "    <tr>\n",
       "      <th>2016-11-02</th>\n",
       "      <td>712.150024</td>\n",
       "      <td>713.510010</td>\n",
       "      <td>705.349976</td>\n",
       "      <td>705.679993</td>\n",
       "      <td>705.679993</td>\n",
       "      <td>75500</td>\n",
       "    </tr>\n",
       "    <tr>\n",
       "      <th>2016-11-03</th>\n",
       "      <td>708.719971</td>\n",
       "      <td>709.640015</td>\n",
       "      <td>702.989990</td>\n",
       "      <td>703.640015</td>\n",
       "      <td>703.640015</td>\n",
       "      <td>84400</td>\n",
       "    </tr>\n",
       "    <tr>\n",
       "      <th>2016-11-04</th>\n",
       "      <td>704.469971</td>\n",
       "      <td>714.219971</td>\n",
       "      <td>704.010010</td>\n",
       "      <td>707.169983</td>\n",
       "      <td>707.169983</td>\n",
       "      <td>86800</td>\n",
       "    </tr>\n",
       "    <tr>\n",
       "      <th>2016-11-07</th>\n",
       "      <td>714.960022</td>\n",
       "      <td>725.229980</td>\n",
       "      <td>714.960022</td>\n",
       "      <td>724.260010</td>\n",
       "      <td>724.260010</td>\n",
       "      <td>84800</td>\n",
       "    </tr>\n",
       "  </tbody>\n",
       "</table>\n",
       "</div>"
      ],
      "text/plain": [
       "                  Open        High         Low       Close   Adj Close  Volume\n",
       "Date                                                                          \n",
       "2016-11-01  723.390015  724.229980  709.000000  712.770020  712.770020   81400\n",
       "2016-11-02  712.150024  713.510010  705.349976  705.679993  705.679993   75500\n",
       "2016-11-03  708.719971  709.640015  702.989990  703.640015  703.640015   84400\n",
       "2016-11-04  704.469971  714.219971  704.010010  707.169983  707.169983   86800\n",
       "2016-11-07  714.960022  725.229980  714.960022  724.260010  724.260010   84800"
      ]
     },
     "execution_count": 62,
     "metadata": {},
     "output_type": "execute_result"
    }
   ],
   "source": [
    "# Convert DateTime Column Into Index\n",
    "df.index = pd.to_datetime(df.Date)\n",
    "del df[\"Date\"]\n",
    "df.head()"
   ]
  },
  {
   "cell_type": "code",
   "execution_count": 63,
   "metadata": {},
   "outputs": [
    {
     "data": {
      "text/plain": [
       "Open         float64\n",
       "High         float64\n",
       "Low          float64\n",
       "Close        float64\n",
       "Adj Close    float64\n",
       "Volume         int64\n",
       "dtype: object"
      ]
     },
     "execution_count": 63,
     "metadata": {},
     "output_type": "execute_result"
    }
   ],
   "source": [
    "# Check DataType\n",
    "df.dtypes"
   ]
  },
  {
   "cell_type": "code",
   "execution_count": 64,
   "metadata": {},
   "outputs": [
    {
     "data": {
      "text/plain": [
       "False"
      ]
     },
     "execution_count": 64,
     "metadata": {},
     "output_type": "execute_result"
    }
   ],
   "source": [
    "\n",
    "# take only column of Intrest\n",
    "df_ohlc = df[[\"Open\",\"High\",\"Low\",\"Close\"]]\n",
    "df_ohlc.isnull().values.any()"
   ]
  },
  {
   "cell_type": "code",
   "execution_count": 65,
   "metadata": {},
   "outputs": [
    {
     "data": {
      "image/png": "[encoded data removed]",
      "text/plain": [
       "<matplotlib.figure.Figure at 0x7f194a38f198>"
      ]
     },
     "metadata": {},
     "output_type": "display_data"
    },
    {
     "data": {
      "text/html": [
       "<div>\n",
       "<style>\n",
       "    .dataframe thead tr:only-child th {\n",
       "        text-align: right;\n",
       "    }\n",
       "\n",
       "    .dataframe thead th {\n",
       "        text-align: left;\n",
       "    }\n",
       "\n",
       "    .dataframe tbody tr th {\n",
       "        vertical-align: top;\n",
       "    }\n",
       "</style>\n",
       "<table border=\"1\" class=\"dataframe\">\n",
       "  <thead>\n",
       "    <tr style=\"text-align: right;\">\n",
       "      <th></th>\n",
       "      <th>Open</th>\n",
       "      <th>High</th>\n",
       "      <th>Low</th>\n",
       "      <th>Close</th>\n",
       "    </tr>\n",
       "  </thead>\n",
       "  <tbody>\n",
       "    <tr>\n",
       "      <th>count</th>\n",
       "      <td>321.000000</td>\n",
       "      <td>321.000000</td>\n",
       "      <td>321.000000</td>\n",
       "      <td>321.000000</td>\n",
       "    </tr>\n",
       "    <tr>\n",
       "      <th>mean</th>\n",
       "      <td>864.182709</td>\n",
       "      <td>868.437010</td>\n",
       "      <td>859.586044</td>\n",
       "      <td>864.332429</td>\n",
       "    </tr>\n",
       "    <tr>\n",
       "      <th>std</th>\n",
       "      <td>49.598032</td>\n",
       "      <td>49.100461</td>\n",
       "      <td>49.111428</td>\n",
       "      <td>48.905112</td>\n",
       "    </tr>\n",
       "    <tr>\n",
       "      <th>min</th>\n",
       "      <td>704.469971</td>\n",
       "      <td>709.640015</td>\n",
       "      <td>702.989990</td>\n",
       "      <td>703.640015</td>\n",
       "    </tr>\n",
       "    <tr>\n",
       "      <th>25%</th>\n",
       "      <td>835.599976</td>\n",
       "      <td>840.869995</td>\n",
       "      <td>830.979980</td>\n",
       "      <td>834.849976</td>\n",
       "    </tr>\n",
       "    <tr>\n",
       "      <th>50%</th>\n",
       "      <td>851.549988</td>\n",
       "      <td>855.580017</td>\n",
       "      <td>846.919983</td>\n",
       "      <td>851.479980</td>\n",
       "    </tr>\n",
       "    <tr>\n",
       "      <th>75%</th>\n",
       "      <td>902.570007</td>\n",
       "      <td>909.020020</td>\n",
       "      <td>899.109985</td>\n",
       "      <td>903.479980</td>\n",
       "    </tr>\n",
       "    <tr>\n",
       "      <th>max</th>\n",
       "      <td>981.950012</td>\n",
       "      <td>982.179993</td>\n",
       "      <td>974.080017</td>\n",
       "      <td>979.570007</td>\n",
       "    </tr>\n",
       "  </tbody>\n",
       "</table>\n",
       "</div>"
      ],
      "text/plain": [
       "             Open        High         Low       Close\n",
       "count  321.000000  321.000000  321.000000  321.000000\n",
       "mean   864.182709  868.437010  859.586044  864.332429\n",
       "std     49.598032   49.100461   49.111428   48.905112\n",
       "min    704.469971  709.640015  702.989990  703.640015\n",
       "25%    835.599976  840.869995  830.979980  834.849976\n",
       "50%    851.549988  855.580017  846.919983  851.479980\n",
       "75%    902.570007  909.020020  899.109985  903.479980\n",
       "max    981.950012  982.179993  974.080017  979.570007"
      ]
     },
     "execution_count": 65,
     "metadata": {},
     "output_type": "execute_result"
    }
   ],
   "source": [
    "#Create candlestick Graph\n",
    "\n",
    "quotes = df_ohlc\n",
    "\n",
    "fig, ax = plt.subplots()\n",
    "candlestick2_ohlc(ax,quotes['Open'],quotes['High'],quotes['Low'],quotes['Close'],width=0.6)\n",
    "\n",
    "xdate = quotes.index\n",
    "\n",
    "ax.xaxis.set_major_locator(ticker.MaxNLocator(10))\n",
    "\n",
    "def mydate(x,pos):\n",
    "    try:\n",
    "        return xdate[int(x)]\n",
    "    except IndexError:\n",
    "        return ''\n",
    "\n",
    "ax.xaxis.set_major_formatter(ticker.FuncFormatter(mydate))\n",
    "\n",
    "fig.autofmt_xdate()\n",
    "fig.tight_layout()\n",
    "\n",
    "plt.show()\n",
    "quotes.describe()"
   ]
  },
  {
   "cell_type": "code",
   "execution_count": 66,
   "metadata": {
    "collapsed": true
   },
   "outputs": [],
   "source": [
    "#Store Data into another csv\n",
    "df_ohlc.to_csv(path_or_buf='Dataset/C_SAP_600.csv')"
   ]
  },
  {
   "cell_type": "code",
   "execution_count": 67,
   "metadata": {},
   "outputs": [
    {
     "data": {
      "text/html": [
       "<div>\n",
       "<style>\n",
       "    .dataframe thead tr:only-child th {\n",
       "        text-align: right;\n",
       "    }\n",
       "\n",
       "    .dataframe thead th {\n",
       "        text-align: left;\n",
       "    }\n",
       "\n",
       "    .dataframe tbody tr th {\n",
       "        vertical-align: top;\n",
       "    }\n",
       "</style>\n",
       "<table border=\"1\" class=\"dataframe\">\n",
       "  <thead>\n",
       "    <tr style=\"text-align: right;\">\n",
       "      <th></th>\n",
       "      <th>Open</th>\n",
       "      <th>High</th>\n",
       "      <th>Low</th>\n",
       "      <th>Close</th>\n",
       "    </tr>\n",
       "    <tr>\n",
       "      <th>Date</th>\n",
       "      <th></th>\n",
       "      <th></th>\n",
       "      <th></th>\n",
       "      <th></th>\n",
       "    </tr>\n",
       "  </thead>\n",
       "  <tbody>\n",
       "    <tr>\n",
       "      <th>2016-11-01</th>\n",
       "      <td>723.390015</td>\n",
       "      <td>724.229980</td>\n",
       "      <td>709.000000</td>\n",
       "      <td>712.770020</td>\n",
       "    </tr>\n",
       "    <tr>\n",
       "      <th>2016-11-02</th>\n",
       "      <td>712.150024</td>\n",
       "      <td>713.510010</td>\n",
       "      <td>705.349976</td>\n",
       "      <td>705.679993</td>\n",
       "    </tr>\n",
       "    <tr>\n",
       "      <th>2016-11-03</th>\n",
       "      <td>708.719971</td>\n",
       "      <td>709.640015</td>\n",
       "      <td>702.989990</td>\n",
       "      <td>703.640015</td>\n",
       "    </tr>\n",
       "    <tr>\n",
       "      <th>2016-11-04</th>\n",
       "      <td>704.469971</td>\n",
       "      <td>714.219971</td>\n",
       "      <td>704.010010</td>\n",
       "      <td>707.169983</td>\n",
       "    </tr>\n",
       "    <tr>\n",
       "      <th>2016-11-07</th>\n",
       "      <td>714.960022</td>\n",
       "      <td>725.229980</td>\n",
       "      <td>714.960022</td>\n",
       "      <td>724.260010</td>\n",
       "    </tr>\n",
       "  </tbody>\n",
       "</table>\n",
       "</div>"
      ],
      "text/plain": [
       "                  Open        High         Low       Close\n",
       "Date                                                      \n",
       "2016-11-01  723.390015  724.229980  709.000000  712.770020\n",
       "2016-11-02  712.150024  713.510010  705.349976  705.679993\n",
       "2016-11-03  708.719971  709.640015  702.989990  703.640015\n",
       "2016-11-04  704.469971  714.219971  704.010010  707.169983\n",
       "2016-11-07  714.960022  725.229980  714.960022  724.260010"
      ]
     },
     "execution_count": 67,
     "metadata": {},
     "output_type": "execute_result"
    }
   ],
   "source": [
    "df_ohlc.head()"
   ]
  },
  {
   "cell_type": "markdown",
   "metadata": {},
   "source": [
    "# Correlation Matrix"
   ]
  },
  {
   "cell_type": "code",
   "execution_count": 68,
   "metadata": {
    "collapsed": true
   },
   "outputs": [],
   "source": [
    "# Load Both DataSet\n",
    "df_btcalpha = pd.read_csv('Dataset/C_btcalphaUSD.csv')\n",
    "df_sap_600 =  pd.read_csv('Dataset/C_SAP_600.csv')"
   ]
  },
  {
   "cell_type": "code",
   "execution_count": 69,
   "metadata": {},
   "outputs": [
    {
     "data": {
      "text/html": [
       "<div>\n",
       "<style>\n",
       "    .dataframe thead tr:only-child th {\n",
       "        text-align: right;\n",
       "    }\n",
       "\n",
       "    .dataframe thead th {\n",
       "        text-align: left;\n",
       "    }\n",
       "\n",
       "    .dataframe tbody tr th {\n",
       "        vertical-align: top;\n",
       "    }\n",
       "</style>\n",
       "<table border=\"1\" class=\"dataframe\">\n",
       "  <thead>\n",
       "    <tr style=\"text-align: right;\">\n",
       "      <th></th>\n",
       "      <th>DateTime</th>\n",
       "      <th>open</th>\n",
       "      <th>high</th>\n",
       "      <th>low</th>\n",
       "      <th>close</th>\n",
       "    </tr>\n",
       "  </thead>\n",
       "  <tbody>\n",
       "    <tr>\n",
       "      <th>0</th>\n",
       "      <td>2016-11-01</td>\n",
       "      <td>715.000</td>\n",
       "      <td>720.2</td>\n",
       "      <td>715.00</td>\n",
       "      <td>717.000</td>\n",
       "    </tr>\n",
       "    <tr>\n",
       "      <th>1</th>\n",
       "      <td>2016-11-02</td>\n",
       "      <td>717.000</td>\n",
       "      <td>717.5</td>\n",
       "      <td>712.00</td>\n",
       "      <td>716.500</td>\n",
       "    </tr>\n",
       "    <tr>\n",
       "      <th>2</th>\n",
       "      <td>2016-11-03</td>\n",
       "      <td>715.000</td>\n",
       "      <td>736.0</td>\n",
       "      <td>688.58</td>\n",
       "      <td>695.681</td>\n",
       "    </tr>\n",
       "    <tr>\n",
       "      <th>3</th>\n",
       "      <td>2016-11-04</td>\n",
       "      <td>695.681</td>\n",
       "      <td>700.0</td>\n",
       "      <td>686.30</td>\n",
       "      <td>687.000</td>\n",
       "    </tr>\n",
       "    <tr>\n",
       "      <th>4</th>\n",
       "      <td>2016-11-05</td>\n",
       "      <td>687.000</td>\n",
       "      <td>695.0</td>\n",
       "      <td>687.00</td>\n",
       "      <td>695.000</td>\n",
       "    </tr>\n",
       "  </tbody>\n",
       "</table>\n",
       "</div>"
      ],
      "text/plain": [
       "     DateTime     open   high     low    close\n",
       "0  2016-11-01  715.000  720.2  715.00  717.000\n",
       "1  2016-11-02  717.000  717.5  712.00  716.500\n",
       "2  2016-11-03  715.000  736.0  688.58  695.681\n",
       "3  2016-11-04  695.681  700.0  686.30  687.000\n",
       "4  2016-11-05  687.000  695.0  687.00  695.000"
      ]
     },
     "execution_count": 69,
     "metadata": {},
     "output_type": "execute_result"
    }
   ],
   "source": [
    "df_btcalpha.head()"
   ]
  },
  {
   "cell_type": "code",
   "execution_count": 70,
   "metadata": {},
   "outputs": [],
   "source": [
    "# Convert Index into DateTime \n",
    "df_btcalpha.index = df_btcalpha.DateTime\n",
    "del df_btcalpha['DateTime']"
   ]
  },
  {
   "cell_type": "code",
   "execution_count": 71,
   "metadata": {
    "collapsed": true
   },
   "outputs": [],
   "source": [
    "# Convert Index into DateTime \n",
    "df_sap_600.index = df_sap_600.Date\n",
    "del df_sap_600['Date']"
   ]
  },
  {
   "cell_type": "code",
   "execution_count": 72,
   "metadata": {},
   "outputs": [
    {
     "data": {
      "text/html": [
       "<div>\n",
       "<style>\n",
       "    .dataframe thead tr:only-child th {\n",
       "        text-align: right;\n",
       "    }\n",
       "\n",
       "    .dataframe thead th {\n",
       "        text-align: left;\n",
       "    }\n",
       "\n",
       "    .dataframe tbody tr th {\n",
       "        vertical-align: top;\n",
       "    }\n",
       "</style>\n",
       "<table border=\"1\" class=\"dataframe\">\n",
       "  <thead>\n",
       "    <tr style=\"text-align: right;\">\n",
       "      <th></th>\n",
       "      <th>open</th>\n",
       "      <th>high</th>\n",
       "      <th>low</th>\n",
       "      <th>close</th>\n",
       "    </tr>\n",
       "    <tr>\n",
       "      <th>DateTime</th>\n",
       "      <th></th>\n",
       "      <th></th>\n",
       "      <th></th>\n",
       "      <th></th>\n",
       "    </tr>\n",
       "  </thead>\n",
       "  <tbody>\n",
       "    <tr>\n",
       "      <th>2018-02-08</th>\n",
       "      <td>8114.131</td>\n",
       "      <td>9253.253</td>\n",
       "      <td>8106.962</td>\n",
       "      <td>8816.800</td>\n",
       "    </tr>\n",
       "    <tr>\n",
       "      <th>2018-02-09</th>\n",
       "      <td>8811.236</td>\n",
       "      <td>9360.360</td>\n",
       "      <td>8276.129</td>\n",
       "      <td>9287.707</td>\n",
       "    </tr>\n",
       "    <tr>\n",
       "      <th>2018-02-10</th>\n",
       "      <td>9230.000</td>\n",
       "      <td>9708.003</td>\n",
       "      <td>8726.385</td>\n",
       "      <td>9162.410</td>\n",
       "    </tr>\n",
       "    <tr>\n",
       "      <th>2018-02-11</th>\n",
       "      <td>9167.760</td>\n",
       "      <td>9167.760</td>\n",
       "      <td>8400.570</td>\n",
       "      <td>8635.970</td>\n",
       "    </tr>\n",
       "    <tr>\n",
       "      <th>2018-02-12</th>\n",
       "      <td>8536.923</td>\n",
       "      <td>9630.000</td>\n",
       "      <td>8520.487</td>\n",
       "      <td>9466.000</td>\n",
       "    </tr>\n",
       "  </tbody>\n",
       "</table>\n",
       "</div>"
      ],
      "text/plain": [
       "                open      high       low     close\n",
       "DateTime                                          \n",
       "2018-02-08  8114.131  9253.253  8106.962  8816.800\n",
       "2018-02-09  8811.236  9360.360  8276.129  9287.707\n",
       "2018-02-10  9230.000  9708.003  8726.385  9162.410\n",
       "2018-02-11  9167.760  9167.760  8400.570  8635.970\n",
       "2018-02-12  8536.923  9630.000  8520.487  9466.000"
      ]
     },
     "execution_count": 72,
     "metadata": {},
     "output_type": "execute_result"
    }
   ],
   "source": [
    "df_btcalpha.tail()"
   ]
  },
  {
   "cell_type": "code",
   "execution_count": 73,
   "metadata": {},
   "outputs": [
    {
     "data": {
      "text/html": [
       "<div>\n",
       "<style>\n",
       "    .dataframe thead tr:only-child th {\n",
       "        text-align: right;\n",
       "    }\n",
       "\n",
       "    .dataframe thead th {\n",
       "        text-align: left;\n",
       "    }\n",
       "\n",
       "    .dataframe tbody tr th {\n",
       "        vertical-align: top;\n",
       "    }\n",
       "</style>\n",
       "<table border=\"1\" class=\"dataframe\">\n",
       "  <thead>\n",
       "    <tr style=\"text-align: right;\">\n",
       "      <th></th>\n",
       "      <th>Open</th>\n",
       "      <th>High</th>\n",
       "      <th>Low</th>\n",
       "      <th>Close</th>\n",
       "    </tr>\n",
       "    <tr>\n",
       "      <th>Date</th>\n",
       "      <th></th>\n",
       "      <th></th>\n",
       "      <th></th>\n",
       "      <th></th>\n",
       "    </tr>\n",
       "  </thead>\n",
       "  <tbody>\n",
       "    <tr>\n",
       "      <th>2018-02-05</th>\n",
       "      <td>935.979980</td>\n",
       "      <td>942.789978</td>\n",
       "      <td>908.559998</td>\n",
       "      <td>908.739990</td>\n",
       "    </tr>\n",
       "    <tr>\n",
       "      <th>2018-02-06</th>\n",
       "      <td>895.309998</td>\n",
       "      <td>922.489990</td>\n",
       "      <td>891.059998</td>\n",
       "      <td>918.409973</td>\n",
       "    </tr>\n",
       "    <tr>\n",
       "      <th>2018-02-07</th>\n",
       "      <td>917.690002</td>\n",
       "      <td>924.159973</td>\n",
       "      <td>915.750000</td>\n",
       "      <td>918.539978</td>\n",
       "    </tr>\n",
       "    <tr>\n",
       "      <th>2018-02-08</th>\n",
       "      <td>920.150024</td>\n",
       "      <td>920.539978</td>\n",
       "      <td>893.000000</td>\n",
       "      <td>893.049988</td>\n",
       "    </tr>\n",
       "    <tr>\n",
       "      <th>2018-02-09</th>\n",
       "      <td>901.750000</td>\n",
       "      <td>909.849976</td>\n",
       "      <td>878.989990</td>\n",
       "      <td>902.799988</td>\n",
       "    </tr>\n",
       "  </tbody>\n",
       "</table>\n",
       "</div>"
      ],
      "text/plain": [
       "                  Open        High         Low       Close\n",
       "Date                                                      \n",
       "2018-02-05  935.979980  942.789978  908.559998  908.739990\n",
       "2018-02-06  895.309998  922.489990  891.059998  918.409973\n",
       "2018-02-07  917.690002  924.159973  915.750000  918.539978\n",
       "2018-02-08  920.150024  920.539978  893.000000  893.049988\n",
       "2018-02-09  901.750000  909.849976  878.989990  902.799988"
      ]
     },
     "execution_count": 73,
     "metadata": {},
     "output_type": "execute_result"
    }
   ],
   "source": [
    "df_sap_600.tail()"
   ]
  },
  {
   "cell_type": "code",
   "execution_count": 74,
   "metadata": {},
   "outputs": [
    {
     "data": {
      "text/html": [
       "<div>\n",
       "<style>\n",
       "    .dataframe thead tr:only-child th {\n",
       "        text-align: right;\n",
       "    }\n",
       "\n",
       "    .dataframe thead th {\n",
       "        text-align: left;\n",
       "    }\n",
       "\n",
       "    .dataframe tbody tr th {\n",
       "        vertical-align: top;\n",
       "    }\n",
       "</style>\n",
       "<table border=\"1\" class=\"dataframe\">\n",
       "  <thead>\n",
       "    <tr style=\"text-align: right;\">\n",
       "      <th></th>\n",
       "      <th>open</th>\n",
       "      <th>high</th>\n",
       "      <th>low</th>\n",
       "      <th>close</th>\n",
       "      <th>Open</th>\n",
       "      <th>High</th>\n",
       "      <th>Low</th>\n",
       "      <th>Close</th>\n",
       "    </tr>\n",
       "  </thead>\n",
       "  <tbody>\n",
       "    <tr>\n",
       "      <th>2018-02-05</th>\n",
       "      <td>8760.304</td>\n",
       "      <td>8965.942</td>\n",
       "      <td>7120.101</td>\n",
       "      <td>7433.611</td>\n",
       "      <td>935.979980</td>\n",
       "      <td>942.789978</td>\n",
       "      <td>908.559998</td>\n",
       "      <td>908.739990</td>\n",
       "    </tr>\n",
       "    <tr>\n",
       "      <th>2018-02-06</th>\n",
       "      <td>7431.043</td>\n",
       "      <td>8409.879</td>\n",
       "      <td>6420.000</td>\n",
       "      <td>8218.777</td>\n",
       "      <td>895.309998</td>\n",
       "      <td>922.489990</td>\n",
       "      <td>891.059998</td>\n",
       "      <td>918.409973</td>\n",
       "    </tr>\n",
       "    <tr>\n",
       "      <th>2018-02-07</th>\n",
       "      <td>8212.250</td>\n",
       "      <td>9036.150</td>\n",
       "      <td>7678.427</td>\n",
       "      <td>8117.662</td>\n",
       "      <td>917.690002</td>\n",
       "      <td>924.159973</td>\n",
       "      <td>915.750000</td>\n",
       "      <td>918.539978</td>\n",
       "    </tr>\n",
       "    <tr>\n",
       "      <th>2018-02-08</th>\n",
       "      <td>8114.131</td>\n",
       "      <td>9253.253</td>\n",
       "      <td>8106.962</td>\n",
       "      <td>8816.800</td>\n",
       "      <td>920.150024</td>\n",
       "      <td>920.539978</td>\n",
       "      <td>893.000000</td>\n",
       "      <td>893.049988</td>\n",
       "    </tr>\n",
       "    <tr>\n",
       "      <th>2018-02-09</th>\n",
       "      <td>8811.236</td>\n",
       "      <td>9360.360</td>\n",
       "      <td>8276.129</td>\n",
       "      <td>9287.707</td>\n",
       "      <td>901.750000</td>\n",
       "      <td>909.849976</td>\n",
       "      <td>878.989990</td>\n",
       "      <td>902.799988</td>\n",
       "    </tr>\n",
       "  </tbody>\n",
       "</table>\n",
       "</div>"
      ],
      "text/plain": [
       "                open      high       low     close        Open        High  \\\n",
       "2018-02-05  8760.304  8965.942  7120.101  7433.611  935.979980  942.789978   \n",
       "2018-02-06  7431.043  8409.879  6420.000  8218.777  895.309998  922.489990   \n",
       "2018-02-07  8212.250  9036.150  7678.427  8117.662  917.690002  924.159973   \n",
       "2018-02-08  8114.131  9253.253  8106.962  8816.800  920.150024  920.539978   \n",
       "2018-02-09  8811.236  9360.360  8276.129  9287.707  901.750000  909.849976   \n",
       "\n",
       "                   Low       Close  \n",
       "2018-02-05  908.559998  908.739990  \n",
       "2018-02-06  891.059998  918.409973  \n",
       "2018-02-07  915.750000  918.539978  \n",
       "2018-02-08  893.000000  893.049988  \n",
       "2018-02-09  878.989990  902.799988  "
      ]
     },
     "execution_count": 74,
     "metadata": {},
     "output_type": "execute_result"
    }
   ],
   "source": [
    "# Now Merge Both DataSet\n",
    "result = pd.merge(df_btcalpha, df_sap_600,how='inner', left_index=True, right_index=True)\n",
    "result.tail()"
   ]
  },
  {
   "cell_type": "code",
   "execution_count": 75,
   "metadata": {
    "collapsed": true
   },
   "outputs": [],
   "source": [
    "# We shoud use here Hirarchical Column To Identify Spesific Data\n",
    "crypto_lable = [\"btcalpha\",\"SAP600\"]\n",
    "ohlc_lable = [u'Open', u'Low', u'High', u'Close']\n",
    "mul_index = pd.MultiIndex.from_product([crypto_lable, ohlc_lable], names=['Object', 'OHLC'])\n",
    "result.columns = mul_index"
   ]
  },
  {
   "cell_type": "code",
   "execution_count": 76,
   "metadata": {
    "collapsed": true
   },
   "outputs": [],
   "source": [
    "#Compute Percentage Change\n",
    "rets = result.pct_change()"
   ]
  },
  {
   "cell_type": "code",
   "execution_count": 77,
   "metadata": {},
   "outputs": [
    {
     "data": {
      "text/html": [
       "<div>\n",
       "<style>\n",
       "    .dataframe thead tr:only-child th {\n",
       "        text-align: right;\n",
       "    }\n",
       "\n",
       "    .dataframe thead th {\n",
       "        text-align: left;\n",
       "    }\n",
       "\n",
       "    .dataframe tbody tr th {\n",
       "        vertical-align: top;\n",
       "    }\n",
       "</style>\n",
       "<table border=\"1\" class=\"dataframe\">\n",
       "  <thead>\n",
       "    <tr>\n",
       "      <th></th>\n",
       "      <th>Object</th>\n",
       "      <th colspan=\"4\" halign=\"left\">btcalpha</th>\n",
       "      <th colspan=\"4\" halign=\"left\">SAP600</th>\n",
       "    </tr>\n",
       "    <tr>\n",
       "      <th></th>\n",
       "      <th>OHLC</th>\n",
       "      <th>Open</th>\n",
       "      <th>Low</th>\n",
       "      <th>High</th>\n",
       "      <th>Close</th>\n",
       "      <th>Open</th>\n",
       "      <th>Low</th>\n",
       "      <th>High</th>\n",
       "      <th>Close</th>\n",
       "    </tr>\n",
       "    <tr>\n",
       "      <th>Object</th>\n",
       "      <th>OHLC</th>\n",
       "      <th></th>\n",
       "      <th></th>\n",
       "      <th></th>\n",
       "      <th></th>\n",
       "      <th></th>\n",
       "      <th></th>\n",
       "      <th></th>\n",
       "      <th></th>\n",
       "    </tr>\n",
       "  </thead>\n",
       "  <tbody>\n",
       "    <tr>\n",
       "      <th rowspan=\"4\" valign=\"top\">btcalpha</th>\n",
       "      <th>Open</th>\n",
       "      <td>1.000000</td>\n",
       "      <td>0.604808</td>\n",
       "      <td>0.351642</td>\n",
       "      <td>0.172757</td>\n",
       "      <td>0.142857</td>\n",
       "      <td>0.109888</td>\n",
       "      <td>0.151752</td>\n",
       "      <td>0.058623</td>\n",
       "    </tr>\n",
       "    <tr>\n",
       "      <th>Low</th>\n",
       "      <td>0.604808</td>\n",
       "      <td>1.000000</td>\n",
       "      <td>0.313275</td>\n",
       "      <td>0.594364</td>\n",
       "      <td>0.031440</td>\n",
       "      <td>0.090068</td>\n",
       "      <td>0.078482</td>\n",
       "      <td>0.098887</td>\n",
       "    </tr>\n",
       "    <tr>\n",
       "      <th>High</th>\n",
       "      <td>0.351642</td>\n",
       "      <td>0.313275</td>\n",
       "      <td>1.000000</td>\n",
       "      <td>0.469377</td>\n",
       "      <td>0.128116</td>\n",
       "      <td>0.065700</td>\n",
       "      <td>0.156695</td>\n",
       "      <td>0.043217</td>\n",
       "    </tr>\n",
       "    <tr>\n",
       "      <th>Close</th>\n",
       "      <td>0.172757</td>\n",
       "      <td>0.594364</td>\n",
       "      <td>0.469377</td>\n",
       "      <td>1.000000</td>\n",
       "      <td>-0.045172</td>\n",
       "      <td>0.046716</td>\n",
       "      <td>0.025507</td>\n",
       "      <td>0.110504</td>\n",
       "    </tr>\n",
       "    <tr>\n",
       "      <th rowspan=\"4\" valign=\"top\">SAP600</th>\n",
       "      <th>Open</th>\n",
       "      <td>0.142857</td>\n",
       "      <td>0.031440</td>\n",
       "      <td>0.128116</td>\n",
       "      <td>-0.045172</td>\n",
       "      <td>1.000000</td>\n",
       "      <td>0.689094</td>\n",
       "      <td>0.632590</td>\n",
       "      <td>0.205508</td>\n",
       "    </tr>\n",
       "    <tr>\n",
       "      <th>Low</th>\n",
       "      <td>0.109888</td>\n",
       "      <td>0.090068</td>\n",
       "      <td>0.065700</td>\n",
       "      <td>0.046716</td>\n",
       "      <td>0.689094</td>\n",
       "      <td>1.000000</td>\n",
       "      <td>0.701290</td>\n",
       "      <td>0.668594</td>\n",
       "    </tr>\n",
       "    <tr>\n",
       "      <th>High</th>\n",
       "      <td>0.151752</td>\n",
       "      <td>0.078482</td>\n",
       "      <td>0.156695</td>\n",
       "      <td>0.025507</td>\n",
       "      <td>0.632590</td>\n",
       "      <td>0.701290</td>\n",
       "      <td>1.000000</td>\n",
       "      <td>0.712546</td>\n",
       "    </tr>\n",
       "    <tr>\n",
       "      <th>Close</th>\n",
       "      <td>0.058623</td>\n",
       "      <td>0.098887</td>\n",
       "      <td>0.043217</td>\n",
       "      <td>0.110504</td>\n",
       "      <td>0.205508</td>\n",
       "      <td>0.668594</td>\n",
       "      <td>0.712546</td>\n",
       "      <td>1.000000</td>\n",
       "    </tr>\n",
       "  </tbody>\n",
       "</table>\n",
       "</div>"
      ],
      "text/plain": [
       "Object          btcalpha                                  SAP600            \\\n",
       "OHLC                Open       Low      High     Close      Open       Low   \n",
       "Object   OHLC                                                                \n",
       "btcalpha Open   1.000000  0.604808  0.351642  0.172757  0.142857  0.109888   \n",
       "         Low    0.604808  1.000000  0.313275  0.594364  0.031440  0.090068   \n",
       "         High   0.351642  0.313275  1.000000  0.469377  0.128116  0.065700   \n",
       "         Close  0.172757  0.594364  0.469377  1.000000 -0.045172  0.046716   \n",
       "SAP600   Open   0.142857  0.031440  0.128116 -0.045172  1.000000  0.689094   \n",
       "         Low    0.109888  0.090068  0.065700  0.046716  0.689094  1.000000   \n",
       "         High   0.151752  0.078482  0.156695  0.025507  0.632590  0.701290   \n",
       "         Close  0.058623  0.098887  0.043217  0.110504  0.205508  0.668594   \n",
       "\n",
       "Object                              \n",
       "OHLC                High     Close  \n",
       "Object   OHLC                       \n",
       "btcalpha Open   0.151752  0.058623  \n",
       "         Low    0.078482  0.098887  \n",
       "         High   0.156695  0.043217  \n",
       "         Close  0.025507  0.110504  \n",
       "SAP600   Open   0.632590  0.205508  \n",
       "         Low    0.701290  0.668594  \n",
       "         High   1.000000  0.712546  \n",
       "         Close  0.712546  1.000000  "
      ]
     },
     "execution_count": 77,
     "metadata": {},
     "output_type": "execute_result"
    }
   ],
   "source": [
    "#Compute Correlation Matrix\n",
    "corr = rets.corr()\n",
    "corr"
   ]
  },
  {
   "cell_type": "code",
   "execution_count": 43,
   "metadata": {},
   "outputs": [
    {
     "data": {
      "image/png": "[encoded data removed]",
      "text/plain": [
       "<matplotlib.figure.Figure at 0x7f1941c405c0>"
      ]
     },
     "metadata": {},
     "output_type": "display_data"
    }
   ],
   "source": [
    "#Plot Correlation Matrix using Matplotlib\n",
    "\n",
    "plt.figure(figsize=(10, 8))\n",
    "plt.imshow(corr, cmap='RdYlGn', interpolation='none', aspect='auto')\n",
    "plt.colorbar()\n",
    "plt.xticks(range(len(corr)), corr.columns, rotation='vertical')\n",
    "plt.yticks(range(len(corr)), corr.columns);\n",
    "plt.suptitle('Stock Correlations Heat Map', fontsize=15, fontweight='bold')\n",
    "plt.show()"
   ]
  },
  {
   "cell_type": "code",
   "execution_count": null,
   "metadata": {
    "collapsed": true
   },
   "outputs": [],
   "source": []
  }
 ],
 "metadata": {
  "kernelspec": {
   "display_name": "Python 3",
   "language": "python",
   "name": "python3"
  },
  "language_info": {
   "codemirror_mode": {
    "name": "ipython",
    "version": 3
   },
   "file_extension": ".py",
   "mimetype": "text/x-python",
   "name": "python",
   "nbconvert_exporter": "python",
   "pygments_lexer": "ipython3",
   "version": "3.6.2"
  }
 },
 "nbformat": 4,
 "nbformat_minor": 2
}

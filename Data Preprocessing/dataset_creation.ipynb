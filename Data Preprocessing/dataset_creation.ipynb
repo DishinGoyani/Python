{
 "cells": [
  {
   "cell_type": "code",
   "execution_count": 1,
   "metadata": {
    "collapsed": true
   },
   "outputs": [],
   "source": [
    "# Import Necessary libraries\n",
    "import re\n",
    "import pandas as pd\n",
    "from collections import OrderedDict"
   ]
  },
  {
   "cell_type": "code",
   "execution_count": 12,
   "metadata": {
    "collapsed": true
   },
   "outputs": [],
   "source": [
    "# Feature extraction :Convert text File raw data To csv feature file \n",
    "def features_extraction(txt_file_path,save_csv_file_path):\n",
    "    ''' Feature extraction :Convert text File raw data To csv feature file\n",
    "        ----------  Parameter ---------- \n",
    "        txt_file_path : Pass Raw data File Path ( source )\n",
    "        save_csv_file_path : Pass Destination File Path ( Target )\n",
    "    '''\n",
    "    \n",
    "    # Function return feature Values of each raw_data\n",
    "    def in_data(raw_data):\n",
    "        ''' Function return feature Values of each raw_data '''\n",
    "        \n",
    "        # Create feature Variable\n",
    "        garden, renovation,king_visit, curse_orcerer,holy_tree = (False for i in range(5))\n",
    "        dock, capital, royal_market, guarding_tower,river, knight = (0.0 for i in range(6))\n",
    "        house_id, dining_rooms,bedrooms, bathrooms, king_blessed = (0 for i in range(5))\n",
    "        location, land_of_farm, date_built, date_price = ('NA' for i in range(4))\n",
    "        \n",
    "        # tack raw_data line by line\n",
    "        for line in raw_data:\n",
    "            #print(line)\n",
    "            \n",
    "            # House ID\n",
    "            if re.findall(r'House ID',line) != []:\n",
    "                house_id = (line.split(' ')[-1])\n",
    "                continue\n",
    "\n",
    "            # Date Built\n",
    "            if re.findall(r'Date Built',line) != []:\n",
    "                date_built = line.split(' ')[3]\n",
    "                date_price = line.split(' ')[11]\n",
    "                continue\n",
    "\n",
    "            # Garden\n",
    "            if re.findall(r'garden',line) != []:\n",
    "                if re.findall(r'There a beautiful garden in the front',line) != []:\n",
    "                    garden = True\n",
    "                    continue\n",
    "\n",
    "            # Dock      \n",
    "            if re.findall(r'Dock',line) != []:\n",
    "                dock = float(re.findall('\\d+\\.\\d+', line)[-1])\n",
    "                continue\n",
    "\n",
    "            # Capital\n",
    "            if re.findall(r'Capital',line) != []:\n",
    "                capital = float(re.findall('\\d+\\.\\d+', line)[-1])   \n",
    "                continue\n",
    "\n",
    "            # Royal Market    \n",
    "            if re.findall(r'Royal Market',line) != []:\n",
    "                royal_market = float(re.findall('\\d+\\.\\d+', line)[-1])\n",
    "                continue\n",
    "\n",
    "            # Guarding Tower\n",
    "            if re.findall(r'Guarding Tower',line) != []:\n",
    "                guarding_tower = float(re.findall('\\d+\\.\\d+', line)[-1])   \n",
    "                continue\n",
    "\n",
    "            # River\n",
    "            if re.findall(r'River',line) != []:\n",
    "                river = float(re.findall('\\d+\\.\\d+', line)[-1]) \n",
    "                continue\n",
    "\n",
    "            # Renovation\n",
    "            if re.findall(r'underwent',line) != []:\n",
    "                renovation= True    \n",
    "                continue\n",
    "\n",
    "            # Dining Rooms\n",
    "            if re.findall(r'dining rooms',line) != []:\n",
    "                dining_rooms = int(re.findall('\\d+', line)[-1]) \n",
    "                continue\n",
    "\n",
    "            # Bedroom\n",
    "            if re.findall(r'bedroom',line) != []:\n",
    "                bedrooms = int(re.findall('\\d+', line)[-1])    \n",
    "                continue\n",
    "\n",
    "            # Bathrooms\n",
    "            if re.findall(r'bathrooms',line) != []:\n",
    "                bathrooms = int(re.findall('\\d+', line)[-1]) \n",
    "                continue\n",
    "\n",
    "            # king visit\n",
    "            if re.findall(r'Visited',line) != []:\n",
    "                king_visit = True    \n",
    "                continue\n",
    "\n",
    "            # cursed by sorcerer\n",
    "            if re.findall(r'cursed by sorcerer',line) != []:\n",
    "                curse_orcerer = True   \n",
    "                continue\n",
    "\n",
    "\n",
    "            # King blessed    \n",
    "            if re.findall(r'King blessed',line) != []:\n",
    "                king_blessed = int(re.findall('\\d+', line)[-1])  \n",
    "                continue\n",
    "            \n",
    "            # Land of Farm\n",
    "            if re.findall(r'land of farm',line) != []:\n",
    "                if re.findall(r'huge',line) != []:\n",
    "                    land_of_farm = \"huge\"\n",
    "                    continue\n",
    "                elif re.findall(r'small',line) != []:\n",
    "                    land_of_farm = \"small\"\n",
    "                    continue\n",
    "                else:\n",
    "                    land_of_farm = \"no\"\n",
    "                    continue\n",
    "\n",
    "            # Location\n",
    "            if re.findall(r'Location',line) != []:\n",
    "                location = line.split(':')[-1]\n",
    "                continue\n",
    "\n",
    "            # Holy tree\n",
    "            if re.findall(r'Holy tree stands',line) != []:\n",
    "                holy_tree = True\n",
    "                continue\n",
    "\n",
    "            # Distance from Knight\n",
    "            if re.findall(r'Distance from Knight',line) != []:\n",
    "                knight = float(re.findall('\\d+\\.\\d+', line)[-1])\n",
    "                continue\n",
    "        \n",
    "        # return features\n",
    "        return (house_id, date_built, date_price, garden, dock, capital, royal_market, guarding_tower,\n",
    "               river, renovation, dining_rooms, bedrooms, bathrooms, king_visit, curse_orcerer,\n",
    "               king_blessed, land_of_farm, location, holy_tree, knight)\n",
    "    \n",
    "    # read text file and store each line as a list\n",
    "    file_context = [line.rstrip('\\n') for line in open(txt_file_path)]\n",
    "    \n",
    "    # define features list\n",
    "    house_id, date_built, date_price, garden, dock, capital, royal_market, guarding_tower,\n",
    "    river, renovation, dining_rooms, bedrooms, bathrooms, king_visit, curse_orcerer,\n",
    "    king_blessed, land_of_farm, location, holy_tree, knight = ([] for i in range(20))\n",
    "\n",
    "    raw_data = []\n",
    "    \n",
    "    # split each record and call function\n",
    "    for line in file_context:\n",
    "        if line != '':\n",
    "            raw_data.append(line)\n",
    "        else:\n",
    "            if raw_data != []:\n",
    "                ans = in_data(raw_data)\n",
    "                raw_data.clear()\n",
    "\n",
    "                house_id.append(ans[0]), date_built.append(ans[1]), date_price.append(ans[2]), garden.append(ans[3]),\n",
    "                dock.append(ans[4]), capital.append(ans[5]), royal_market.append(ans[6]), guarding_tower.append(ans[7]),\n",
    "                river.append(ans[8]), renovation.append(ans[9]), dining_rooms.append(ans[10]), bedrooms.append(ans[11]),\n",
    "                bathrooms.append(ans[12]), king_visit.append(ans[13]), curse_orcerer.append(ans[14]),\n",
    "                king_blessed.append(ans[15]), land_of_farm.append(ans[16]), location.append(ans[17]),\n",
    "                holy_tree.append(ans[18]), knight.append(ans[19])\n",
    "    \n",
    "    dict_csv = OrderedDict({\n",
    "        'house_id':house_id, 'date_built':date_built, 'date_price':date_price, 'garden':garden, 'dock':dock,\n",
    "        'capital':capital, 'royal_market':royal_market, 'guarding_tower':guarding_tower, 'river':river,\n",
    "        'renovation':renovation, 'dining_rooms':dining_rooms, 'bedrooms':bedrooms, 'bathrooms':bathrooms,\n",
    "        'king_visit':king_visit, 'curse_orcerer':curse_orcerer, 'king_blessed':king_blessed,\n",
    "        'land_of_farm':land_of_farm, 'location':location, 'holy_tree':holy_tree, 'knight':knight\n",
    "    })\n",
    "    \n",
    "    df = pd.DataFrame.from_dict(dict_csv)\n",
    "    df.to_csv(save_csv_file_path, index=False)"
   ]
  },
  {
   "cell_type": "code",
   "execution_count": 11,
   "metadata": {
    "collapsed": true
   },
   "outputs": [],
   "source": [
    "# features extraction Bob.txt --> Bob.csv\n",
    "features_extraction('Housing Prices/Bob.txt','Dataset/Bob.csv')"
   ]
  },
  {
   "cell_type": "code",
   "execution_count": 13,
   "metadata": {},
   "outputs": [
    {
     "ename": "NameError",
     "evalue": "name 'house_id' is not defined",
     "output_type": "error",
     "traceback": [
      "\u001b[0;31m---------------------------------------------------------------------------\u001b[0m",
      "\u001b[0;31mNameError\u001b[0m                                 Traceback (most recent call last)",
      "\u001b[0;32m<ipython-input-13-996ac4867b41>\u001b[0m in \u001b[0;36m<module>\u001b[0;34m()\u001b[0m\n\u001b[1;32m      1\u001b[0m \u001b[0;31m# features extraction Bright_Brothers.txt --> Bright_Brothers.csv\u001b[0m\u001b[0;34m\u001b[0m\u001b[0;34m\u001b[0m\u001b[0m\n\u001b[0;32m----> 2\u001b[0;31m \u001b[0mfeatures_extraction\u001b[0m\u001b[0;34m(\u001b[0m\u001b[0;34m'Housing Prices/Bright_Brothers.txt'\u001b[0m\u001b[0;34m,\u001b[0m\u001b[0;34m'Dataset/Bright_Brothers.csv'\u001b[0m\u001b[0;34m)\u001b[0m\u001b[0;34m\u001b[0m\u001b[0m\n\u001b[0m",
      "\u001b[0;32m<ipython-input-12-206ca7f09a16>\u001b[0m in \u001b[0;36mfeatures_extraction\u001b[0;34m(txt_file_path, save_csv_file_path)\u001b[0m\n\u001b[1;32m    135\u001b[0m \u001b[0;34m\u001b[0m\u001b[0m\n\u001b[1;32m    136\u001b[0m     \u001b[0;31m# define features list\u001b[0m\u001b[0;34m\u001b[0m\u001b[0;34m\u001b[0m\u001b[0m\n\u001b[0;32m--> 137\u001b[0;31m     \u001b[0mhouse_id\u001b[0m\u001b[0;34m,\u001b[0m \u001b[0mdate_built\u001b[0m\u001b[0;34m,\u001b[0m \u001b[0mdate_price\u001b[0m\u001b[0;34m,\u001b[0m \u001b[0mgarden\u001b[0m\u001b[0;34m,\u001b[0m \u001b[0mdock\u001b[0m\u001b[0;34m,\u001b[0m \u001b[0mcapital\u001b[0m\u001b[0;34m,\u001b[0m \u001b[0mroyal_market\u001b[0m\u001b[0;34m,\u001b[0m \u001b[0mguarding_tower\u001b[0m\u001b[0;34m,\u001b[0m\u001b[0;34m\u001b[0m\u001b[0m\n\u001b[0m\u001b[1;32m    138\u001b[0m     \u001b[0mriver\u001b[0m\u001b[0;34m,\u001b[0m \u001b[0mrenovation\u001b[0m\u001b[0;34m,\u001b[0m \u001b[0mdining_rooms\u001b[0m\u001b[0;34m,\u001b[0m \u001b[0mbedrooms\u001b[0m\u001b[0;34m,\u001b[0m \u001b[0mbathrooms\u001b[0m\u001b[0;34m,\u001b[0m \u001b[0mking_visit\u001b[0m\u001b[0;34m,\u001b[0m \u001b[0mcurse_orcerer\u001b[0m\u001b[0;34m,\u001b[0m\u001b[0;34m\u001b[0m\u001b[0m\n\u001b[1;32m    139\u001b[0m     \u001b[0mking_blessed\u001b[0m\u001b[0;34m,\u001b[0m \u001b[0mland_of_farm\u001b[0m\u001b[0;34m,\u001b[0m \u001b[0mlocation\u001b[0m\u001b[0;34m,\u001b[0m \u001b[0mholy_tree\u001b[0m\u001b[0;34m,\u001b[0m \u001b[0mknight\u001b[0m \u001b[0;34m=\u001b[0m \u001b[0;34m(\u001b[0m\u001b[0;34m[\u001b[0m\u001b[0;34m]\u001b[0m \u001b[0;32mfor\u001b[0m \u001b[0mi\u001b[0m \u001b[0;32min\u001b[0m \u001b[0mrange\u001b[0m\u001b[0;34m(\u001b[0m\u001b[0;36m20\u001b[0m\u001b[0;34m)\u001b[0m\u001b[0;34m)\u001b[0m\u001b[0;34m\u001b[0m\u001b[0m\n",
      "\u001b[0;31mNameError\u001b[0m: name 'house_id' is not defined"
     ]
    }
   ],
   "source": [
    "# features extraction Bright_Brothers.txt --> Bright_Brothers.csv\n",
    "features_extraction('Housing Prices/Bright_Brothers.txt','Dataset/Bright_Brothers.csv')"
   ]
  },
  {
   "cell_type": "code",
   "execution_count": 181,
   "metadata": {
    "collapsed": true
   },
   "outputs": [],
   "source": [
    "# features extraction Masters_of_Stones.txt --> Masters_of_Stones.csv\n",
    "features_extraction('Housing Prices/Masters_of_Stones.txt','Dataset/Masters_of_Stones.csv')"
   ]
  },
  {
   "cell_type": "code",
   "execution_count": 182,
   "metadata": {
    "collapsed": true
   },
   "outputs": [],
   "source": [
    "# features extraction The_Greens.txt --> The_Greens.csv\n",
    "features_extraction('Housing Prices/The_Greens.txt','Dataset/The_Greens.csv')"
   ]
  },
  {
   "cell_type": "code",
   "execution_count": 183,
   "metadata": {
    "collapsed": true
   },
   "outputs": [],
   "source": [
    "# features extraction The_Kings.txt --> The_Kings.csv\n",
    "features_extraction('Housing Prices/The_Kings.txt','Dataset/The_Kings.csv')"
   ]
  },
  {
   "cell_type": "code",
   "execution_count": 184,
   "metadata": {
    "collapsed": true
   },
   "outputs": [],
   "source": [
    "# features extraction The_Lannisters.txt --> The_Lannisters.csv\n",
    "features_extraction('Housing Prices/The_Lannisters.txt','Dataset/The_Lannisters.csv')"
   ]
  },
  {
   "cell_type": "code",
   "execution_count": 185,
   "metadata": {
    "collapsed": true
   },
   "outputs": [],
   "source": [
    "# features extraction The_Ollivers.txt --> The_Ollivers.csv\n",
    "features_extraction('Housing Prices/The_Ollivers.txt','Dataset/The_Ollivers.csv')"
   ]
  },
  {
   "cell_type": "code",
   "execution_count": 186,
   "metadata": {
    "collapsed": true
   },
   "outputs": [],
   "source": [
    "# features extraction The_Overlords.txt --> The_Overlords.csv\n",
    "features_extraction('Housing Prices/The_Overlords.txt','Dataset/The_Overlords.csv')"
   ]
  },
  {
   "cell_type": "code",
   "execution_count": 187,
   "metadata": {
    "collapsed": true
   },
   "outputs": [],
   "source": [
    "# features extraction The_Starks.txt --> The_Starks.csv\n",
    "features_extraction('Housing Prices/The_Starks.txt','Dataset/The_Starks.csv')"
   ]
  },
  {
   "cell_type": "code",
   "execution_count": 195,
   "metadata": {
    "collapsed": true
   },
   "outputs": [],
   "source": [
    "# features extraction Wood_Priest.txt --> Wood_Priest.csv\n",
    "features_extraction('Housing Prices/Wood_Priest.txt','Dataset/Wood_Priest.csv')"
   ]
  },
  {
   "cell_type": "code",
   "execution_count": 194,
   "metadata": {
    "collapsed": true
   },
   "outputs": [],
   "source": [
    "# features extraction Not_Known.txt --> Not_Known.csv\n",
    "features_extraction('Housing Prices/Not_Known.txt','Dataset/Not_Known.csv')"
   ]
  }
 ],
 "metadata": {
  "kernelspec": {
   "display_name": "Python 3",
   "language": "python",
   "name": "python3"
  },
  "language_info": {
   "codemirror_mode": {
    "name": "ipython",
    "version": 3
   },
   "file_extension": ".py",
   "mimetype": "text/x-python",
   "name": "python",
   "nbconvert_exporter": "python",
   "pygments_lexer": "ipython3",
   "version": "3.6.2"
  }
 },
 "nbformat": 4,
 "nbformat_minor": 2
}
